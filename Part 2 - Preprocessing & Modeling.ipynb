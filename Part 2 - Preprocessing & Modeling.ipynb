{
 "cells": [
  {
   "cell_type": "markdown",
   "metadata": {},
   "source": [
    "# Table of Contents\n",
    "\n",
    "* [Loading data](#loading)\n",
    "* [Cell of functions](#functions)\n",
    "* [Prepare the Data for Machine Learning Algorithms](#start)\n",
    "    * [Creating New Variables](#2.0)\n",
    "    * [Stratified Undersampling](#1.1)\n",
    "    * [Smoothed Target Encoding](#1.2)\n",
    "    * [Training and Evaluating on the Training Set](#1.3)\n",
    "* [Fine Tune The Model](#3)\n",
    "* [Prepare the test set](#4)\n",
    "* [Scoring & Evaluating](#5)\n",
    "* [Conclusion](#Conclusion)\n",
    "* [Sources](#Sources)"
   ]
  },
  {
   "cell_type": "code",
   "execution_count": 1,
   "metadata": {},
   "outputs": [],
   "source": [
    "# Standard libraries\n",
    "import pandas as pd\n",
    "import numpy as np\n",
    "\n",
    "# Visualisation \n",
    "import matplotlib.pyplot as plt\n",
    "import seaborn as sns\n",
    "sns.set_style(\"darkgrid\")\n",
    "\n",
    "# Models \n",
    "from sklearn.linear_model import LogisticRegression\n",
    "from sklearn.ensemble import RandomForestClassifier, GradientBoostingClassifier\n",
    "\n",
    "# Processing and metrics \n",
    "from sklearn import metrics\n",
    "from sklearn.model_selection import cross_validate, GridSearchCV, StratifiedShuffleSplit\n",
    "from sklearn.metrics import roc_curve, confusion_matrix, classification_report, precision_score, recall_score\n",
    "from sklearn.utils import shuffle\n",
    "import category_encoders as ce\n",
    "\n",
    "# Saving model\n",
    "import joblib\n",
    "\n",
    "import warnings\n",
    "warnings.filterwarnings(\"ignore\")"
   ]
  },
  {
   "cell_type": "markdown",
   "metadata": {},
   "source": [
    "# Loading the data <a class=\"anchor\" id=\"loading\"></a>"
   ]
  },
  {
   "cell_type": "code",
   "execution_count": 2,
   "metadata": {},
   "outputs": [],
   "source": [
    "df = pd.read_csv('train.csv')"
   ]
  },
  {
   "cell_type": "markdown",
   "metadata": {},
   "source": [
    "First of all, we retrieve __the same data sets as during the part 1__ (same `random_state=42`): "
   ]
  },
  {
   "cell_type": "code",
   "execution_count": 3,
   "metadata": {},
   "outputs": [
    {
     "name": "stdout",
     "output_type": "stream",
     "text": [
      "Train shape : (4082242, 19)\n",
      "Test shape : (1020561, 19)\n"
     ]
    }
   ],
   "source": [
    "split = StratifiedShuffleSplit(n_splits=1, test_size=0.2, random_state=42)\n",
    "\n",
    "for train_index, test_index in split.split(df, df[\"event\"]):\n",
    "    train = df.loc[train_index]\n",
    "    test = df.loc[test_index]\n",
    "\n",
    "print(\"Train shape : {}\".format(train.shape))\n",
    "print(\"Test shape : {}\".format(test.shape))"
   ]
  },
  {
   "cell_type": "markdown",
   "metadata": {},
   "source": [
    "# Cell of functions <a class=\"anchor\" id=\"functions\"></a>"
   ]
  },
  {
   "cell_type": "markdown",
   "metadata": {},
   "source": [
    "The following cell contains all functions I will use in this notebook to preprocess the data or evaluate models :"
   ]
  },
  {
   "cell_type": "code",
   "execution_count": 4,
   "metadata": {},
   "outputs": [],
   "source": [
    "def stratified_sample(df, strata, size=None, seed=None, keep_index= True):\n",
    "    \n",
    "    population = len(df)\n",
    "    size = __smpl_size(population, size)\n",
    "    tmp = df[strata]\n",
    "    tmp['size'] = 1\n",
    "    tmp_grpd = tmp.groupby(strata).count().reset_index()\n",
    "    tmp_grpd['samp_size'] = round(size/population * tmp_grpd['size']).astype(int)\n",
    "\n",
    "    # controlling variable to create the dataframe or append to it\n",
    "    first = True \n",
    "    for i in range(len(tmp_grpd)):\n",
    "        # query generator for each iteration\n",
    "        qry=''\n",
    "        for s in range(len(strata)):\n",
    "            stratum = strata[s]\n",
    "            value = tmp_grpd.iloc[i][stratum]\n",
    "            n = tmp_grpd.iloc[i]['samp_size']\n",
    "\n",
    "            if type(value) == str:\n",
    "                value = \"'\" + str(value) + \"'\"\n",
    "            \n",
    "            if s != len(strata)-1:\n",
    "                qry = qry + stratum + ' == ' + str(value) +' & '\n",
    "            else:\n",
    "                qry = qry + stratum + ' == ' + str(value)\n",
    "        \n",
    "        # final dataframe\n",
    "        if first:\n",
    "            stratified_df = df.query(qry).sample(n=n, random_state=seed).reset_index(drop=(not keep_index))\n",
    "            first = False\n",
    "        else:\n",
    "            tmp_df = df.query(qry).sample(n=n, random_state=seed).reset_index(drop=(not keep_index))\n",
    "            stratified_df = stratified_df.append(tmp_df, ignore_index=True)\n",
    "    \n",
    "    return stratified_df\n",
    "\n",
    "def stratified_sample_report(df, strata, size=None):\n",
    "\n",
    "    population = len(df)\n",
    "    size = __smpl_size(population, size)\n",
    "    tmp = df[strata]\n",
    "    tmp['size'] = 1\n",
    "    tmp_grpd = tmp.groupby(strata).count().reset_index()\n",
    "    tmp_grpd['samp_size'] = round(size/population * tmp_grpd['size']).astype(int)\n",
    "    return tmp_grpd\n",
    "\n",
    "def __smpl_size(population, size):\n",
    "\n",
    "    if size is None:\n",
    "        cochran_n = round(((1.96)**2 * 0.5 * 0.5)/ 0.02**2)\n",
    "        n = round(cochran_n/(1+((cochran_n -1) /population)))\n",
    "    elif size >= 0 and size < 1:\n",
    "        n = round(population * size)\n",
    "    elif size < 0:\n",
    "        raise ValueError('Parameter \"size\" must be an integer or a proportion between 0 and 0.99.')\n",
    "    elif size >= 1:\n",
    "        n = size\n",
    "    return n\n",
    "\n",
    "def cross_validate_results(model, X_train, y_train) :\n",
    "    \n",
    "    scores = cross_validate(model, X_train, y_train, cv = 5, scoring = 'roc_auc',\n",
    "                            n_jobs = -1, return_train_score = True)\n",
    "    scores = pd.DataFrame(scores)\n",
    "    results = scores.describe().transpose()\n",
    "    \n",
    "    return results"
   ]
  },
  {
   "cell_type": "markdown",
   "metadata": {},
   "source": [
    "# Prepare the Data for Machine Learning Algorithms <a class=\"anchor\" id=\"start\"></a>"
   ]
  },
  {
   "cell_type": "markdown",
   "metadata": {},
   "source": [
    "## Creating New Variables <a class=\"anchor\" id=\"2.0\"></a>"
   ]
  },
  {
   "cell_type": "markdown",
   "metadata": {},
   "source": [
    "Here we create `creative_shape`, `date`, `from_friday_to_monday`, and `cpm_cat` features :"
   ]
  },
  {
   "cell_type": "code",
   "execution_count": 5,
   "metadata": {},
   "outputs": [],
   "source": [
    "# creative_shape : \n",
    "train['creative_shape'] = train['creative_width'].astype(str) + \" x \" + train['creative_height'].astype(str)\n",
    "\n",
    "# date & from_friday_to_monday:\n",
    "train[\"date\"] = pd.to_datetime(train[['year', 'month', 'day']])\n",
    "train[\"from_friday_to_monday\"] = np.where(train[\"date\"] >= \"2019-10-04\", 1, 0)\n",
    "\n",
    "# cpm_cat :\n",
    "train[\"cpm_cat\"] = pd.qcut(train[\"media_cost_dollars_cpm\"], 4, labels=False)"
   ]
  },
  {
   "cell_type": "markdown",
   "metadata": {},
   "source": [
    "## Stratified Undersampling <a class=\"anchor\" id=\"1.1\"></a>"
   ]
  },
  {
   "cell_type": "markdown",
   "metadata": {},
   "source": [
    "To deal with the imbalanced dataset issue, I make the __assumption__ that __a lots of observations belonging to the majority class do not provide much more information,__ thus we can reduce this majority class to a smaller sample.  \n",
    "\n",
    "But instead of randomly drop rows belonging to the majority class, we want __to create a representative sample of ads where users didn't click on__ (event = 0) __having the same size of the minority class__ (event = 1). The function `stratified_sample` allows us to create a stratified sample based on several columns selected wisely. \n",
    "\n",
    "We assume that `advertiser_id` and `cpm_cat` belongs to the more interesting candidate. Therefore, __our subsample will be representative in terms of these two variables :__"
   ]
  },
  {
   "cell_type": "code",
   "execution_count": 6,
   "metadata": {},
   "outputs": [
    {
     "data": {
      "text/html": [
       "<div>\n",
       "<style scoped>\n",
       "    .dataframe tbody tr th:only-of-type {\n",
       "        vertical-align: middle;\n",
       "    }\n",
       "\n",
       "    .dataframe tbody tr th {\n",
       "        vertical-align: top;\n",
       "    }\n",
       "\n",
       "    .dataframe thead th {\n",
       "        text-align: right;\n",
       "    }\n",
       "</style>\n",
       "<table border=\"1\" class=\"dataframe\">\n",
       "  <thead>\n",
       "    <tr style=\"text-align: right;\">\n",
       "      <th></th>\n",
       "      <th>advertiser_id</th>\n",
       "      <th>cpm_cat</th>\n",
       "      <th>size</th>\n",
       "      <th>samp_size</th>\n",
       "    </tr>\n",
       "  </thead>\n",
       "  <tbody>\n",
       "    <tr>\n",
       "      <th>0</th>\n",
       "      <td>1872690</td>\n",
       "      <td>0</td>\n",
       "      <td>297358</td>\n",
       "      <td>229</td>\n",
       "    </tr>\n",
       "    <tr>\n",
       "      <th>1</th>\n",
       "      <td>1872690</td>\n",
       "      <td>1</td>\n",
       "      <td>522230</td>\n",
       "      <td>403</td>\n",
       "    </tr>\n",
       "    <tr>\n",
       "      <th>2</th>\n",
       "      <td>1872690</td>\n",
       "      <td>2</td>\n",
       "      <td>571561</td>\n",
       "      <td>441</td>\n",
       "    </tr>\n",
       "    <tr>\n",
       "      <th>3</th>\n",
       "      <td>1872690</td>\n",
       "      <td>3</td>\n",
       "      <td>541076</td>\n",
       "      <td>417</td>\n",
       "    </tr>\n",
       "    <tr>\n",
       "      <th>4</th>\n",
       "      <td>2040640</td>\n",
       "      <td>0</td>\n",
       "      <td>208732</td>\n",
       "      <td>161</td>\n",
       "    </tr>\n",
       "    <tr>\n",
       "      <th>5</th>\n",
       "      <td>2040640</td>\n",
       "      <td>1</td>\n",
       "      <td>80771</td>\n",
       "      <td>62</td>\n",
       "    </tr>\n",
       "    <tr>\n",
       "      <th>6</th>\n",
       "      <td>2040640</td>\n",
       "      <td>2</td>\n",
       "      <td>110629</td>\n",
       "      <td>85</td>\n",
       "    </tr>\n",
       "    <tr>\n",
       "      <th>7</th>\n",
       "      <td>2040640</td>\n",
       "      <td>3</td>\n",
       "      <td>78749</td>\n",
       "      <td>61</td>\n",
       "    </tr>\n",
       "    <tr>\n",
       "      <th>8</th>\n",
       "      <td>2078681</td>\n",
       "      <td>0</td>\n",
       "      <td>423467</td>\n",
       "      <td>327</td>\n",
       "    </tr>\n",
       "    <tr>\n",
       "      <th>9</th>\n",
       "      <td>2078681</td>\n",
       "      <td>1</td>\n",
       "      <td>318387</td>\n",
       "      <td>246</td>\n",
       "    </tr>\n",
       "    <tr>\n",
       "      <th>10</th>\n",
       "      <td>2078681</td>\n",
       "      <td>2</td>\n",
       "      <td>232262</td>\n",
       "      <td>179</td>\n",
       "    </tr>\n",
       "    <tr>\n",
       "      <th>11</th>\n",
       "      <td>2078681</td>\n",
       "      <td>3</td>\n",
       "      <td>299035</td>\n",
       "      <td>231</td>\n",
       "    </tr>\n",
       "    <tr>\n",
       "      <th>12</th>\n",
       "      <td>3911298</td>\n",
       "      <td>0</td>\n",
       "      <td>90846</td>\n",
       "      <td>70</td>\n",
       "    </tr>\n",
       "    <tr>\n",
       "      <th>13</th>\n",
       "      <td>3911298</td>\n",
       "      <td>1</td>\n",
       "      <td>98713</td>\n",
       "      <td>76</td>\n",
       "    </tr>\n",
       "    <tr>\n",
       "      <th>14</th>\n",
       "      <td>3911298</td>\n",
       "      <td>2</td>\n",
       "      <td>105273</td>\n",
       "      <td>81</td>\n",
       "    </tr>\n",
       "    <tr>\n",
       "      <th>15</th>\n",
       "      <td>3911298</td>\n",
       "      <td>3</td>\n",
       "      <td>100007</td>\n",
       "      <td>77</td>\n",
       "    </tr>\n",
       "  </tbody>\n",
       "</table>\n",
       "</div>"
      ],
      "text/plain": [
       "    advertiser_id  cpm_cat    size  samp_size\n",
       "0         1872690        0  297358        229\n",
       "1         1872690        1  522230        403\n",
       "2         1872690        2  571561        441\n",
       "3         1872690        3  541076        417\n",
       "4         2040640        0  208732        161\n",
       "5         2040640        1   80771         62\n",
       "6         2040640        2  110629         85\n",
       "7         2040640        3   78749         61\n",
       "8         2078681        0  423467        327\n",
       "9         2078681        1  318387        246\n",
       "10        2078681        2  232262        179\n",
       "11        2078681        3  299035        231\n",
       "12        3911298        0   90846         70\n",
       "13        3911298        1   98713         76\n",
       "14        3911298        2  105273         81\n",
       "15        3911298        3  100007         77"
      ]
     },
     "execution_count": 6,
     "metadata": {},
     "output_type": "execute_result"
    }
   ],
   "source": [
    "# Observations belonging to the majority class\n",
    "train_0 = train[train['event'] == 0]\n",
    "\n",
    "# Observations belonging to the minority class \n",
    "train_1 = train[train['event'] == 1]\n",
    "size_minority_class = len(train_1)\n",
    "\n",
    "# To get a quick view of our stratified sample\n",
    "stratified_sample_report(train_0, ['advertiser_id','cpm_cat'], size_minority_class)"
   ]
  },
  {
   "cell_type": "code",
   "execution_count": 7,
   "metadata": {},
   "outputs": [
    {
     "data": {
      "text/html": [
       "<div>\n",
       "<style scoped>\n",
       "    .dataframe tbody tr th:only-of-type {\n",
       "        vertical-align: middle;\n",
       "    }\n",
       "\n",
       "    .dataframe tbody tr th {\n",
       "        vertical-align: top;\n",
       "    }\n",
       "\n",
       "    .dataframe thead th {\n",
       "        text-align: right;\n",
       "    }\n",
       "</style>\n",
       "<table border=\"1\" class=\"dataframe\">\n",
       "  <thead>\n",
       "    <tr style=\"text-align: right;\">\n",
       "      <th></th>\n",
       "      <th>Count</th>\n",
       "      <th>Proportion</th>\n",
       "    </tr>\n",
       "  </thead>\n",
       "  <tbody>\n",
       "    <tr>\n",
       "      <th>1</th>\n",
       "      <td>3146</td>\n",
       "      <td>50.0</td>\n",
       "    </tr>\n",
       "    <tr>\n",
       "      <th>0</th>\n",
       "      <td>3146</td>\n",
       "      <td>50.0</td>\n",
       "    </tr>\n",
       "  </tbody>\n",
       "</table>\n",
       "</div>"
      ],
      "text/plain": [
       "   Count  Proportion\n",
       "1   3146        50.0\n",
       "0   3146        50.0"
      ]
     },
     "execution_count": 7,
     "metadata": {},
     "output_type": "execute_result"
    }
   ],
   "source": [
    "# To build our stratified sample of majority class : train_0_sample\n",
    "train_0_sample = stratified_sample(train_0, ['advertiser_id','cpm_cat'],\n",
    "                                   size=size_minority_class, seed=42, keep_index=False)\n",
    "\n",
    "# Concatenate the stratified sample of impressions and the sample of clicks : new_train\n",
    "new_train = pd.concat([train_0_sample, train_1], ignore_index=True)\n",
    "\n",
    "# Shuffle rows \n",
    "new_train = shuffle(new_train)\n",
    "\n",
    "# Display how our new train set is balanced\n",
    "pd.DataFrame({\"Count\" : new_train[\"event\"].value_counts(),\n",
    "              \"Proportion\" : new_train[\"event\"].value_counts(normalize=True).mul(100)})"
   ]
  },
  {
   "cell_type": "markdown",
   "metadata": {},
   "source": [
    "We split our `new_train` set into a `X_train` containing __the matrix of explanatory variables__, and `y_train` containing __the target variable__ :"
   ]
  },
  {
   "cell_type": "code",
   "execution_count": 8,
   "metadata": {},
   "outputs": [],
   "source": [
    "not_col_4_train = ['creative_width','creative_height','year','month','day',\n",
    "                   'new_auction_id_64','date','media_cost_dollars_cpm','event']\n",
    "\n",
    "y_train = new_train[\"event\"]\n",
    "X_train = new_train[[f for f in new_train.columns if f not in not_col_4_train]]"
   ]
  },
  {
   "cell_type": "markdown",
   "metadata": {},
   "source": [
    "## Smoothed Target Encoding <a class=\"anchor\" id=\"1.2\"></a>"
   ]
  },
  {
   "cell_type": "markdown",
   "metadata": {},
   "source": [
    "Instead of dummy encoding of categorical variables and increasing the number of features, we can encode each level as the mean of the response. Let's take a example to better understand what is target mean encoding :   \n",
    "\n",
    "<table>\n",
    "<tr></tr>\n",
    "<tr><td>\n",
    "\n",
    "| Feature     | Target | MeanEncode |    \n",
    "|:---:|:---:|:---:|\n",
    "| A     | 1 | 0.75 |\n",
    "| A     | 0 |  0.75 |\n",
    "| A | 1  |  0.75 |\n",
    "| A | 1 | 0.75 |\n",
    "| B |  1  |  0.66 |\n",
    "| B |   1 |  0.66 |\n",
    "| B  | 0| 0.66 |\n",
    "| C |  1|  1.00 |\n",
    "| C | 1 |  1.00 |\n",
    "\n",
    "\n",
    "</td><td>\n",
    "\n",
    "Feature | MeanEncode |\n",
    ":---:|:---:|\n",
    "A | 0.75 (3 our of 4)|\n",
    "B | 0.66 (2 our of 3 | \n",
    "C | 1.00 (2 out of 2)|\n",
    "Overall |  0.77 (7 out of 9) |\n",
    "\n",
    "</td></tr> </table>\n",
    "\n",
    "For instance with the category A we get 0.75, which corresponds to __the probability of getting A knowing that the target is equal to 1__. \n",
    "\n",
    "In our use case, __target mean encoding amounts to replace each level of a categorical variable by its corresponding Click-Through-Rate (CTR).__\n",
    "\n",
    "It seems to be a good approach but for rarest events (like event C in the example above) it is not really reliable, that's why we need a __paremeter of regularization__ : for rarest event, we will give more confidence (i.e. higher weight) to the overall click-through rate. The module `TargetEncoder` allow this kind of regularization with a parameter called `smoothing` : "
   ]
  },
  {
   "cell_type": "code",
   "execution_count": 9,
   "metadata": {},
   "outputs": [
    {
     "data": {
      "text/html": [
       "<div>\n",
       "<style scoped>\n",
       "    .dataframe tbody tr th:only-of-type {\n",
       "        vertical-align: middle;\n",
       "    }\n",
       "\n",
       "    .dataframe tbody tr th {\n",
       "        vertical-align: top;\n",
       "    }\n",
       "\n",
       "    .dataframe thead th {\n",
       "        text-align: right;\n",
       "    }\n",
       "</style>\n",
       "<table border=\"1\" class=\"dataframe\">\n",
       "  <thead>\n",
       "    <tr style=\"text-align: right;\">\n",
       "      <th></th>\n",
       "      <th>fold_position</th>\n",
       "      <th>operating_system</th>\n",
       "      <th>browser</th>\n",
       "      <th>mobile_app_instance_id</th>\n",
       "      <th>advertiser_id</th>\n",
       "      <th>creative_id</th>\n",
       "      <th>carrier_id</th>\n",
       "      <th>device_id</th>\n",
       "      <th>geo_dma</th>\n",
       "      <th>new_publisher_id</th>\n",
       "      <th>new_site_domain</th>\n",
       "      <th>creative_shape</th>\n",
       "      <th>from_friday_to_monday</th>\n",
       "      <th>cpm_cat</th>\n",
       "    </tr>\n",
       "  </thead>\n",
       "  <tbody>\n",
       "    <tr>\n",
       "      <th>3358</th>\n",
       "      <td>0.548451</td>\n",
       "      <td>0.469047</td>\n",
       "      <td>0.501042</td>\n",
       "      <td>0.500401</td>\n",
       "      <td>0.533792</td>\n",
       "      <td>0.743762</td>\n",
       "      <td>0.468002</td>\n",
       "      <td>0.525037</td>\n",
       "      <td>0.536181</td>\n",
       "      <td>0.600533</td>\n",
       "      <td>0.653276</td>\n",
       "      <td>0.856408</td>\n",
       "      <td>0.503756</td>\n",
       "      <td>0.682809</td>\n",
       "    </tr>\n",
       "    <tr>\n",
       "      <th>3211</th>\n",
       "      <td>0.548451</td>\n",
       "      <td>0.469047</td>\n",
       "      <td>0.501042</td>\n",
       "      <td>0.500401</td>\n",
       "      <td>0.533792</td>\n",
       "      <td>0.432512</td>\n",
       "      <td>0.507991</td>\n",
       "      <td>0.299161</td>\n",
       "      <td>0.487531</td>\n",
       "      <td>0.788443</td>\n",
       "      <td>0.800544</td>\n",
       "      <td>0.478393</td>\n",
       "      <td>0.503756</td>\n",
       "      <td>0.682809</td>\n",
       "    </tr>\n",
       "    <tr>\n",
       "      <th>5597</th>\n",
       "      <td>0.548451</td>\n",
       "      <td>0.577979</td>\n",
       "      <td>0.501042</td>\n",
       "      <td>0.500401</td>\n",
       "      <td>0.533792</td>\n",
       "      <td>0.586665</td>\n",
       "      <td>0.507991</td>\n",
       "      <td>0.753750</td>\n",
       "      <td>0.589375</td>\n",
       "      <td>0.482169</td>\n",
       "      <td>0.461867</td>\n",
       "      <td>0.425411</td>\n",
       "      <td>0.492841</td>\n",
       "      <td>0.682809</td>\n",
       "    </tr>\n",
       "  </tbody>\n",
       "</table>\n",
       "</div>"
      ],
      "text/plain": [
       "      fold_position  operating_system   browser  mobile_app_instance_id  \\\n",
       "3358       0.548451          0.469047  0.501042                0.500401   \n",
       "3211       0.548451          0.469047  0.501042                0.500401   \n",
       "5597       0.548451          0.577979  0.501042                0.500401   \n",
       "\n",
       "      advertiser_id  creative_id  carrier_id  device_id   geo_dma  \\\n",
       "3358       0.533792     0.743762    0.468002   0.525037  0.536181   \n",
       "3211       0.533792     0.432512    0.507991   0.299161  0.487531   \n",
       "5597       0.533792     0.586665    0.507991   0.753750  0.589375   \n",
       "\n",
       "      new_publisher_id  new_site_domain  creative_shape  \\\n",
       "3358          0.600533         0.653276        0.856408   \n",
       "3211          0.788443         0.800544        0.478393   \n",
       "5597          0.482169         0.461867        0.425411   \n",
       "\n",
       "      from_friday_to_monday   cpm_cat  \n",
       "3358               0.503756  0.682809  \n",
       "3211               0.503756  0.682809  \n",
       "5597               0.492841  0.682809  "
      ]
     },
     "execution_count": 9,
     "metadata": {},
     "output_type": "execute_result"
    }
   ],
   "source": [
    "# Instantiate target mean encoding with smoothing = 100\n",
    "target_encoding = ce.TargetEncoder(cols = X_train.columns, smoothing = 100)\n",
    "# Fit to training set \n",
    "target_encoding.fit(X_train, y_train)\n",
    "# Transform the training set\n",
    "X_train_encoded = target_encoding.transform(X_train, y_train)\n",
    "# Display the first 3 rows\n",
    "X_train_encoded.head(3)"
   ]
  },
  {
   "cell_type": "markdown",
   "metadata": {},
   "source": [
    "## Training and Evaluating on the Training Set <a class=\"anchor\" id=\"1.3\"></a>"
   ]
  },
  {
   "cell_type": "markdown",
   "metadata": {},
   "source": [
    "Our training set is ready, we are now able to __train and evaluate several models using cross-validation.__ The function `cross_validate_results` performs 5-folds cross-validation by randomly splits the training set into 5 distinct subsets called *folds*, then it trains and evaluates the model 5 times, picking a different fold for evaluation every time and training on the other 4 folds. The result is a dataframe containing the mean train and evaluation ROC-AUC, allowing us to detect possible overfitting or underfitting. We try 3 different models : \n",
    "* LogisticRegression\n",
    "* Random Forest\n",
    "* Gradient Boosting"
   ]
  },
  {
   "cell_type": "code",
   "execution_count": 10,
   "metadata": {},
   "outputs": [
    {
     "data": {
      "text/html": [
       "<div>\n",
       "<style scoped>\n",
       "    .dataframe tbody tr th:only-of-type {\n",
       "        vertical-align: middle;\n",
       "    }\n",
       "\n",
       "    .dataframe tbody tr th {\n",
       "        vertical-align: top;\n",
       "    }\n",
       "\n",
       "    .dataframe thead th {\n",
       "        text-align: right;\n",
       "    }\n",
       "</style>\n",
       "<table border=\"1\" class=\"dataframe\">\n",
       "  <thead>\n",
       "    <tr style=\"text-align: right;\">\n",
       "      <th></th>\n",
       "      <th>count</th>\n",
       "      <th>mean</th>\n",
       "      <th>std</th>\n",
       "      <th>min</th>\n",
       "      <th>25%</th>\n",
       "      <th>50%</th>\n",
       "      <th>75%</th>\n",
       "      <th>max</th>\n",
       "    </tr>\n",
       "  </thead>\n",
       "  <tbody>\n",
       "    <tr>\n",
       "      <th>fit_time</th>\n",
       "      <td>5.0</td>\n",
       "      <td>0.057362</td>\n",
       "      <td>0.015131</td>\n",
       "      <td>0.040475</td>\n",
       "      <td>0.048566</td>\n",
       "      <td>0.058468</td>\n",
       "      <td>0.058471</td>\n",
       "      <td>0.080830</td>\n",
       "    </tr>\n",
       "    <tr>\n",
       "      <th>score_time</th>\n",
       "      <td>5.0</td>\n",
       "      <td>0.011299</td>\n",
       "      <td>0.006479</td>\n",
       "      <td>0.002025</td>\n",
       "      <td>0.010065</td>\n",
       "      <td>0.012106</td>\n",
       "      <td>0.012108</td>\n",
       "      <td>0.020191</td>\n",
       "    </tr>\n",
       "    <tr>\n",
       "      <th>test_score</th>\n",
       "      <td>5.0</td>\n",
       "      <td>0.860325</td>\n",
       "      <td>0.012692</td>\n",
       "      <td>0.850591</td>\n",
       "      <td>0.852891</td>\n",
       "      <td>0.857786</td>\n",
       "      <td>0.858058</td>\n",
       "      <td>0.882297</td>\n",
       "    </tr>\n",
       "    <tr>\n",
       "      <th>train_score</th>\n",
       "      <td>5.0</td>\n",
       "      <td>0.860965</td>\n",
       "      <td>0.002935</td>\n",
       "      <td>0.855986</td>\n",
       "      <td>0.861384</td>\n",
       "      <td>0.861468</td>\n",
       "      <td>0.862286</td>\n",
       "      <td>0.863702</td>\n",
       "    </tr>\n",
       "  </tbody>\n",
       "</table>\n",
       "</div>"
      ],
      "text/plain": [
       "             count      mean       std       min       25%       50%  \\\n",
       "fit_time       5.0  0.057362  0.015131  0.040475  0.048566  0.058468   \n",
       "score_time     5.0  0.011299  0.006479  0.002025  0.010065  0.012106   \n",
       "test_score     5.0  0.860325  0.012692  0.850591  0.852891  0.857786   \n",
       "train_score    5.0  0.860965  0.002935  0.855986  0.861384  0.861468   \n",
       "\n",
       "                  75%       max  \n",
       "fit_time     0.058471  0.080830  \n",
       "score_time   0.012108  0.020191  \n",
       "test_score   0.858058  0.882297  \n",
       "train_score  0.862286  0.863702  "
      ]
     },
     "execution_count": 10,
     "metadata": {},
     "output_type": "execute_result"
    }
   ],
   "source": [
    "logistic_regression = LogisticRegression(random_state=42, C=1.0, solver=\"liblinear\")\n",
    "cross_validate_results(logistic_regression, X_train_encoded, y_train)"
   ]
  },
  {
   "cell_type": "code",
   "execution_count": 11,
   "metadata": {},
   "outputs": [
    {
     "data": {
      "text/html": [
       "<div>\n",
       "<style scoped>\n",
       "    .dataframe tbody tr th:only-of-type {\n",
       "        vertical-align: middle;\n",
       "    }\n",
       "\n",
       "    .dataframe tbody tr th {\n",
       "        vertical-align: top;\n",
       "    }\n",
       "\n",
       "    .dataframe thead th {\n",
       "        text-align: right;\n",
       "    }\n",
       "</style>\n",
       "<table border=\"1\" class=\"dataframe\">\n",
       "  <thead>\n",
       "    <tr style=\"text-align: right;\">\n",
       "      <th></th>\n",
       "      <th>count</th>\n",
       "      <th>mean</th>\n",
       "      <th>std</th>\n",
       "      <th>min</th>\n",
       "      <th>25%</th>\n",
       "      <th>50%</th>\n",
       "      <th>75%</th>\n",
       "      <th>max</th>\n",
       "    </tr>\n",
       "  </thead>\n",
       "  <tbody>\n",
       "    <tr>\n",
       "      <th>fit_time</th>\n",
       "      <td>5.0</td>\n",
       "      <td>3.054059</td>\n",
       "      <td>0.215399</td>\n",
       "      <td>2.889518</td>\n",
       "      <td>2.960311</td>\n",
       "      <td>2.980506</td>\n",
       "      <td>3.008728</td>\n",
       "      <td>3.431231</td>\n",
       "    </tr>\n",
       "    <tr>\n",
       "      <th>score_time</th>\n",
       "      <td>5.0</td>\n",
       "      <td>0.173530</td>\n",
       "      <td>0.021879</td>\n",
       "      <td>0.161367</td>\n",
       "      <td>0.161375</td>\n",
       "      <td>0.161437</td>\n",
       "      <td>0.171614</td>\n",
       "      <td>0.211859</td>\n",
       "    </tr>\n",
       "    <tr>\n",
       "      <th>test_score</th>\n",
       "      <td>5.0</td>\n",
       "      <td>0.867610</td>\n",
       "      <td>0.013733</td>\n",
       "      <td>0.857068</td>\n",
       "      <td>0.861551</td>\n",
       "      <td>0.863002</td>\n",
       "      <td>0.864790</td>\n",
       "      <td>0.891639</td>\n",
       "    </tr>\n",
       "    <tr>\n",
       "      <th>train_score</th>\n",
       "      <td>5.0</td>\n",
       "      <td>0.929326</td>\n",
       "      <td>0.002136</td>\n",
       "      <td>0.926025</td>\n",
       "      <td>0.928480</td>\n",
       "      <td>0.929950</td>\n",
       "      <td>0.930964</td>\n",
       "      <td>0.931213</td>\n",
       "    </tr>\n",
       "  </tbody>\n",
       "</table>\n",
       "</div>"
      ],
      "text/plain": [
       "             count      mean       std       min       25%       50%  \\\n",
       "fit_time       5.0  3.054059  0.215399  2.889518  2.960311  2.980506   \n",
       "score_time     5.0  0.173530  0.021879  0.161367  0.161375  0.161437   \n",
       "test_score     5.0  0.867610  0.013733  0.857068  0.861551  0.863002   \n",
       "train_score    5.0  0.929326  0.002136  0.926025  0.928480  0.929950   \n",
       "\n",
       "                  75%       max  \n",
       "fit_time     3.008728  3.431231  \n",
       "score_time   0.171614  0.211859  \n",
       "test_score   0.864790  0.891639  \n",
       "train_score  0.930964  0.931213  "
      ]
     },
     "execution_count": 11,
     "metadata": {},
     "output_type": "execute_result"
    }
   ],
   "source": [
    "random_forest = RandomForestClassifier(n_estimators=300, max_depth=9, random_state=42)\n",
    "cross_validate_results(random_forest, X_train_encoded, y_train)"
   ]
  },
  {
   "cell_type": "code",
   "execution_count": 12,
   "metadata": {},
   "outputs": [
    {
     "data": {
      "text/html": [
       "<div>\n",
       "<style scoped>\n",
       "    .dataframe tbody tr th:only-of-type {\n",
       "        vertical-align: middle;\n",
       "    }\n",
       "\n",
       "    .dataframe tbody tr th {\n",
       "        vertical-align: top;\n",
       "    }\n",
       "\n",
       "    .dataframe thead th {\n",
       "        text-align: right;\n",
       "    }\n",
       "</style>\n",
       "<table border=\"1\" class=\"dataframe\">\n",
       "  <thead>\n",
       "    <tr style=\"text-align: right;\">\n",
       "      <th></th>\n",
       "      <th>count</th>\n",
       "      <th>mean</th>\n",
       "      <th>std</th>\n",
       "      <th>min</th>\n",
       "      <th>25%</th>\n",
       "      <th>50%</th>\n",
       "      <th>75%</th>\n",
       "      <th>max</th>\n",
       "    </tr>\n",
       "  </thead>\n",
       "  <tbody>\n",
       "    <tr>\n",
       "      <th>fit_time</th>\n",
       "      <td>5.0</td>\n",
       "      <td>7.158436</td>\n",
       "      <td>0.626125</td>\n",
       "      <td>6.045371</td>\n",
       "      <td>7.356787</td>\n",
       "      <td>7.388221</td>\n",
       "      <td>7.465494</td>\n",
       "      <td>7.536309</td>\n",
       "    </tr>\n",
       "    <tr>\n",
       "      <th>score_time</th>\n",
       "      <td>5.0</td>\n",
       "      <td>0.030678</td>\n",
       "      <td>0.012675</td>\n",
       "      <td>0.015621</td>\n",
       "      <td>0.026713</td>\n",
       "      <td>0.029936</td>\n",
       "      <td>0.030453</td>\n",
       "      <td>0.050668</td>\n",
       "    </tr>\n",
       "    <tr>\n",
       "      <th>test_score</th>\n",
       "      <td>5.0</td>\n",
       "      <td>0.869055</td>\n",
       "      <td>0.013034</td>\n",
       "      <td>0.857381</td>\n",
       "      <td>0.863759</td>\n",
       "      <td>0.864271</td>\n",
       "      <td>0.868626</td>\n",
       "      <td>0.891240</td>\n",
       "    </tr>\n",
       "    <tr>\n",
       "      <th>train_score</th>\n",
       "      <td>5.0</td>\n",
       "      <td>0.906837</td>\n",
       "      <td>0.002831</td>\n",
       "      <td>0.901911</td>\n",
       "      <td>0.907471</td>\n",
       "      <td>0.907555</td>\n",
       "      <td>0.908126</td>\n",
       "      <td>0.909120</td>\n",
       "    </tr>\n",
       "  </tbody>\n",
       "</table>\n",
       "</div>"
      ],
      "text/plain": [
       "             count      mean       std       min       25%       50%  \\\n",
       "fit_time       5.0  7.158436  0.626125  6.045371  7.356787  7.388221   \n",
       "score_time     5.0  0.030678  0.012675  0.015621  0.026713  0.029936   \n",
       "test_score     5.0  0.869055  0.013034  0.857381  0.863759  0.864271   \n",
       "train_score    5.0  0.906837  0.002831  0.901911  0.907471  0.907555   \n",
       "\n",
       "                  75%       max  \n",
       "fit_time     7.465494  7.536309  \n",
       "score_time   0.030453  0.050668  \n",
       "test_score   0.868626  0.891240  \n",
       "train_score  0.908126  0.909120  "
      ]
     },
     "execution_count": 12,
     "metadata": {},
     "output_type": "execute_result"
    }
   ],
   "source": [
    "gradient_boosting = GradientBoostingClassifier(random_state=42, n_estimators=600, max_depth=2)\n",
    "cross_validate_results(gradient_boosting, X_train_encoded, y_train)"
   ]
  },
  {
   "cell_type": "markdown",
   "metadata": {},
   "source": [
    "As Gradient Boosting seems to be slightly better than Random Forest and Logistic Regression (with a mean test AUC = 0.87), we choose this model and we now need to fine-tune it."
   ]
  },
  {
   "cell_type": "markdown",
   "metadata": {},
   "source": [
    "# Fine-Tune The Model <a class=\"anchor\" id=\"3\"></a>"
   ]
  },
  {
   "cell_type": "markdown",
   "metadata": {},
   "source": [
    "We tune our model based on the two most important parameters in tree based model : __the number of trees__ and __their maximum depth.__ We fix the maximum number of features selected at each tree split equal to `sqrt(n_features)`"
   ]
  },
  {
   "cell_type": "code",
   "execution_count": 13,
   "metadata": {},
   "outputs": [
    {
     "name": "stdout",
     "output_type": "stream",
     "text": [
      "Fitting 5 folds for each of 15 candidates, totalling 75 fits\n"
     ]
    },
    {
     "name": "stderr",
     "output_type": "stream",
     "text": [
      "[Parallel(n_jobs=1)]: Using backend SequentialBackend with 1 concurrent workers.\n",
      "[Parallel(n_jobs=1)]: Done  75 out of  75 | elapsed:  5.2min finished\n"
     ]
    },
    {
     "data": {
      "text/plain": [
       "GridSearchCV(cv=5, estimator=GradientBoostingClassifier(random_state=42),\n",
       "             param_grid={'max_depth': [2, 3, 4],\n",
       "                         'n_estimators': [500, 550, 600, 650, 700]},\n",
       "             return_train_score=True, scoring='roc_auc', verbose=True)"
      ]
     },
     "execution_count": 13,
     "metadata": {},
     "output_type": "execute_result"
    }
   ],
   "source": [
    "param_grid = {'n_estimators': [500,550,600,650,700], 'max_depth': [2,3,4]}\n",
    "\n",
    "gradient_boosting = GradientBoostingClassifier(random_state=42)\n",
    "\n",
    "grid_search = GridSearchCV(gradient_boosting,\n",
    "                           param_grid,\n",
    "                           cv=5,\n",
    "                           scoring='roc_auc',\n",
    "                           return_train_score=True,\n",
    "                           verbose=True)\n",
    "\n",
    "grid_search.fit(X_train_encoded, y_train)"
   ]
  },
  {
   "cell_type": "code",
   "execution_count": 14,
   "metadata": {},
   "outputs": [
    {
     "data": {
      "text/plain": [
       "{'max_depth': 2, 'n_estimators': 500}"
      ]
     },
     "execution_count": 14,
     "metadata": {},
     "output_type": "execute_result"
    }
   ],
   "source": [
    "grid_search.best_params_"
   ]
  },
  {
   "cell_type": "markdown",
   "metadata": {},
   "source": [
    "# Prepare the test set <a class=\"anchor\" id=\"4\"></a>"
   ]
  },
  {
   "cell_type": "code",
   "execution_count": 15,
   "metadata": {},
   "outputs": [
    {
     "data": {
      "text/html": [
       "<div>\n",
       "<style scoped>\n",
       "    .dataframe tbody tr th:only-of-type {\n",
       "        vertical-align: middle;\n",
       "    }\n",
       "\n",
       "    .dataframe tbody tr th {\n",
       "        vertical-align: top;\n",
       "    }\n",
       "\n",
       "    .dataframe thead th {\n",
       "        text-align: right;\n",
       "    }\n",
       "</style>\n",
       "<table border=\"1\" class=\"dataframe\">\n",
       "  <thead>\n",
       "    <tr style=\"text-align: right;\">\n",
       "      <th></th>\n",
       "      <th>fold_position</th>\n",
       "      <th>operating_system</th>\n",
       "      <th>browser</th>\n",
       "      <th>mobile_app_instance_id</th>\n",
       "      <th>advertiser_id</th>\n",
       "      <th>creative_id</th>\n",
       "      <th>carrier_id</th>\n",
       "      <th>device_id</th>\n",
       "      <th>geo_dma</th>\n",
       "      <th>new_publisher_id</th>\n",
       "      <th>new_site_domain</th>\n",
       "      <th>creative_shape</th>\n",
       "      <th>from_friday_to_monday</th>\n",
       "      <th>cpm_cat</th>\n",
       "    </tr>\n",
       "  </thead>\n",
       "  <tbody>\n",
       "    <tr>\n",
       "      <th>3516489</th>\n",
       "      <td>0.162679</td>\n",
       "      <td>0.577979</td>\n",
       "      <td>0.501042</td>\n",
       "      <td>0.500401</td>\n",
       "      <td>0.447753</td>\n",
       "      <td>0.432969</td>\n",
       "      <td>0.501296</td>\n",
       "      <td>0.526416</td>\n",
       "      <td>0.471557</td>\n",
       "      <td>0.600533</td>\n",
       "      <td>0.653276</td>\n",
       "      <td>0.478393</td>\n",
       "      <td>0.503756</td>\n",
       "      <td>0.509057</td>\n",
       "    </tr>\n",
       "    <tr>\n",
       "      <th>4158612</th>\n",
       "      <td>0.548451</td>\n",
       "      <td>0.520982</td>\n",
       "      <td>0.501042</td>\n",
       "      <td>0.500401</td>\n",
       "      <td>0.533792</td>\n",
       "      <td>0.566366</td>\n",
       "      <td>0.507991</td>\n",
       "      <td>0.516268</td>\n",
       "      <td>0.526702</td>\n",
       "      <td>0.549099</td>\n",
       "      <td>0.527796</td>\n",
       "      <td>0.467898</td>\n",
       "      <td>0.492841</td>\n",
       "      <td>0.682809</td>\n",
       "    </tr>\n",
       "    <tr>\n",
       "      <th>3138651</th>\n",
       "      <td>0.548451</td>\n",
       "      <td>0.577979</td>\n",
       "      <td>0.501042</td>\n",
       "      <td>0.500401</td>\n",
       "      <td>0.447753</td>\n",
       "      <td>0.426425</td>\n",
       "      <td>0.507991</td>\n",
       "      <td>0.571742</td>\n",
       "      <td>0.492491</td>\n",
       "      <td>0.360688</td>\n",
       "      <td>0.286653</td>\n",
       "      <td>0.478393</td>\n",
       "      <td>0.503756</td>\n",
       "      <td>0.344714</td>\n",
       "    </tr>\n",
       "  </tbody>\n",
       "</table>\n",
       "</div>"
      ],
      "text/plain": [
       "         fold_position  operating_system   browser  mobile_app_instance_id  \\\n",
       "3516489       0.162679          0.577979  0.501042                0.500401   \n",
       "4158612       0.548451          0.520982  0.501042                0.500401   \n",
       "3138651       0.548451          0.577979  0.501042                0.500401   \n",
       "\n",
       "         advertiser_id  creative_id  carrier_id  device_id   geo_dma  \\\n",
       "3516489       0.447753     0.432969    0.501296   0.526416  0.471557   \n",
       "4158612       0.533792     0.566366    0.507991   0.516268  0.526702   \n",
       "3138651       0.447753     0.426425    0.507991   0.571742  0.492491   \n",
       "\n",
       "         new_publisher_id  new_site_domain  creative_shape  \\\n",
       "3516489          0.600533         0.653276        0.478393   \n",
       "4158612          0.549099         0.527796        0.467898   \n",
       "3138651          0.360688         0.286653        0.478393   \n",
       "\n",
       "         from_friday_to_monday   cpm_cat  \n",
       "3516489               0.503756  0.509057  \n",
       "4158612               0.492841  0.682809  \n",
       "3138651               0.503756  0.344714  "
      ]
     },
     "execution_count": 15,
     "metadata": {},
     "output_type": "execute_result"
    }
   ],
   "source": [
    "test['creative_shape'] = test['creative_width'].astype(str) + \" x \" + test['creative_height'].astype(str)\n",
    "test[\"date\"] = pd.to_datetime(test[['year', 'month', 'day']])\n",
    "test[\"from_friday_to_monday\"] = np.where(test[\"date\"] >= \"2019-10-04\", 1, 0)\n",
    "\n",
    "test.loc[test['media_cost_dollars_cpm'] < 0.158, 'cpm_cat'] = 0\n",
    "test.loc[(test['media_cost_dollars_cpm'] >= 0.158) & (test['media_cost_dollars_cpm'] < 0.362), 'cpm_cat'] = 1\n",
    "test.loc[(test['media_cost_dollars_cpm'] >= 0.362) & (test['media_cost_dollars_cpm'] < 0.854), 'cpm_cat'] = 2\n",
    "test.loc[test['media_cost_dollars_cpm'] >= 0.854, 'cpm_cat'] = 3\n",
    "\n",
    "test = test.drop(['creative_width','creative_height','year','month','day',\n",
    "                  'new_auction_id_64','date','media_cost_dollars_cpm'], axis=1)\n",
    "\n",
    "y_test = test[\"event\"]\n",
    "X_test = test.drop('event', axis=1)\n",
    "\n",
    "X_test_encoded = target_encoding.transform(X_test)\n",
    "X_test_encoded.head(3)"
   ]
  },
  {
   "cell_type": "markdown",
   "metadata": {},
   "source": [
    "# Scoring & Evaluating <a class=\"anchor\" id=\"5\"></a>"
   ]
  },
  {
   "cell_type": "code",
   "execution_count": 16,
   "metadata": {},
   "outputs": [],
   "source": [
    "# Loading the model\n",
    "final_model = grid_search.best_estimator_\n",
    "# To predict 0 or 1 (click or impression)\n",
    "y_pred = final_model.predict(X_test_encoded)\n",
    "# To predict the probability that an ad is clicked\n",
    "y_pred_proba = final_model.predict_proba(X_test_encoded)[:,1]"
   ]
  },
  {
   "cell_type": "code",
   "execution_count": 17,
   "metadata": {},
   "outputs": [
    {
     "data": {
      "image/png": "[encoded data removed]",
      "text/plain": [
       "<Figure size 576x288 with 2 Axes>"
      ]
     },
     "metadata": {},
     "output_type": "display_data"
    }
   ],
   "source": [
    "plt.figure(figsize = (8,4))\n",
    "cm = confusion_matrix(y_test, y_pred)\n",
    "sns.heatmap(cm, annot=True, fmt='2.0f', annot_kws={\"size\": 16}, cmap=\"PuBu\")\n",
    "plt.ylabel('Actual',fontsize=18) ; plt.xlabel('Predicted',fontsize=18)\n",
    "plt.xticks(fontsize=18) ; plt.yticks(fontsize=18)\n",
    "plt.title(\"Confusion matrix\", fontsize=20)\n",
    "plt.show()"
   ]
  },
  {
   "cell_type": "code",
   "execution_count": 18,
   "metadata": {},
   "outputs": [
    {
     "data": {
      "image/png": "[encoded data removed]",
      "text/plain": [
       "<Figure size 576x288 with 1 Axes>"
      ]
     },
     "metadata": {},
     "output_type": "display_data"
    }
   ],
   "source": [
    "plt.figure(figsize=(8,4))\n",
    "fpr, tpr, threshold = metrics.roc_curve(y_test, y_pred_proba)\n",
    "roc_auc = metrics.auc(fpr, tpr)\n",
    "plt.title('ROC Curve', fontsize = 20)\n",
    "plt.plot(fpr, tpr, label = 'Random Forest : AUC = %0.2f' % roc_auc)\n",
    "plt.legend(loc = 'lower right', fontsize = 12)\n",
    "plt.plot([0, 1], [0, 1],'r--') ; plt.xlim([0, 1]) ; plt.ylim([0, 1])\n",
    "plt.ylabel('True positive rate', fontsize = 16) ; plt.xlabel('False positive rate', fontsize = 16)\n",
    "plt.show()"
   ]
  },
  {
   "cell_type": "code",
   "execution_count": 19,
   "metadata": {},
   "outputs": [
    {
     "data": {
      "image/png": "[encoded data removed]",
      "text/plain": [
       "<Figure size 576x288 with 1 Axes>"
      ]
     },
     "metadata": {},
     "output_type": "display_data"
    }
   ],
   "source": [
    "importances = final_model.feature_importances_\n",
    "attributes = list(X_train_encoded)\n",
    "a = sorted(zip(importances, attributes), reverse=True)\n",
    "q = pd.DataFrame(a, columns = [\"importances\", \"variables\"])\n",
    "fig, ax = plt.subplots(figsize = (8,4)) \n",
    "sns.barplot(x=\"importances\", y=\"variables\", data=q, palette=\"Blues_d\")\n",
    "plt.xticks(fontsize = 13), plt.yticks(fontsize=13)\n",
    "plt.title(\"Relative feature importance\", fontsize=18)\n",
    "plt.ylabel('Variables',fontsize=15)\n",
    "plt.xlabel(\"Importance\",fontsize=15)\n",
    "plt.show()"
   ]
  },
  {
   "cell_type": "code",
   "execution_count": 20,
   "metadata": {},
   "outputs": [
    {
     "name": "stdout",
     "output_type": "stream",
     "text": [
      "              precision    recall  f1-score   support\n",
      "\n",
      "           0       1.00      0.72      0.83   1019775\n",
      "           1       0.00      0.73      0.00       786\n",
      "\n",
      "    accuracy                           0.72   1020561\n",
      "   macro avg       0.50      0.72      0.42   1020561\n",
      "weighted avg       1.00      0.72      0.83   1020561\n",
      "\n",
      "Precision : 0.20%\n",
      "Recall : 73.03%\n"
     ]
    }
   ],
   "source": [
    "print(classification_report(y_test, y_pred))\n",
    "print(\"Precision : {:.2%}\".format(precision_score(y_test, y_pred)))\n",
    "print(\"Recall : {:.2%}\".format(recall_score(y_test, y_pred)))"
   ]
  },
  {
   "cell_type": "markdown",
   "metadata": {},
   "source": [
    "# Conclusion <a class=\"anchor\" id=\"Conclusion\"></a>\n",
    "\n",
    "*  __In supervised machine learning, handle a highly imbalanced dataset is a real challenge :__ in this case, 73% of positive instances that are correctly detected by the classifier (recall = 73%), but the accuracy of the positive predictions is really poor (precision = 0.20%)\n",
    "* The model __has trouble to detect underlying patterns related to the ads users click on__ \n",
    "* One possible way of improvement will be to __add more instances representing clicks, to get a balanced dataset__ with at least 30k observations (15k for each class)\n",
    "* According to our tree based model, the 3 variables allowing the best differenciation between the 2 classes are `new_published_id`, `new_site_domain` and `device_id`\n",
    "* Neural networks may be a good alternative to ensemble models, but the few number of positive instance may lead to the same issue\n",
    "* The trade-off between the precision and the recall is highly present here : an increasing in the recall drastically reduce the precision"
   ]
  },
  {
   "cell_type": "markdown",
   "metadata": {},
   "source": [
    "# Sources <a class=\"anchor\" id=\"Sources\"></a>\n",
    "\n",
    "* Stratified sampling functions : https://www.kaggle.com/flaviobossolan/stratified-sampling-python\n",
    "* Target Encoder : https://contrib.scikit-learn.org/category_encoders/targetencoder.html"
   ]
  }
 ],
 "metadata": {
  "kernelspec": {
   "display_name": "Python 3",
   "language": "python",
   "name": "python3"
  },
  "language_info": {
   "codemirror_mode": {
    "name": "ipython",
    "version": 3
   },
   "file_extension": ".py",
   "mimetype": "text/x-python",
   "name": "python",
   "nbconvert_exporter": "python",
   "pygments_lexer": "ipython3",
   "version": "3.8.5"
  }
 },
 "nbformat": 4,
 "nbformat_minor": 4
}
